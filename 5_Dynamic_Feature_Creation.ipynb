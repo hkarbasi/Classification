{
 "cells": [
  {
   "cell_type": "code",
   "execution_count": 1,
   "metadata": {
    "ExecuteTime": {
     "end_time": "2020-05-06T03:12:08.617872Z",
     "start_time": "2020-05-06T03:12:08.615342Z"
    },
    "code_folding": []
   },
   "outputs": [],
   "source": [
    "#!/usr/bin/env python\n",
    "# coding: utf-8\n",
    "\n",
    "if 'config' not in locals():\n",
    "#     config = 'configs.config_WomenInEngineering_local'\n",
    "    config = 'configs.config_ILLAE_local'\n",
    "#     config = 'configs.config_Digits_local'    "
   ]
  },
  {
   "cell_type": "code",
   "execution_count": 2,
   "metadata": {
    "ExecuteTime": {
     "end_time": "2020-05-06T03:12:10.220362Z",
     "start_time": "2020-05-06T03:12:08.620104Z"
    },
    "code_folding": []
   },
   "outputs": [
    {
     "name": "stdout",
     "output_type": "stream",
     "text": [
      "config file is set to configs.config_ILLAE_local\n"
     ]
    }
   ],
   "source": [
    "### initialization ###\n",
    "\n",
    "import importlib\n",
    "print('config file is set to {}'.format(config))\n",
    "\n",
    "imp=importlib.import_module('_imports')\n",
    "importlib.reload(imp)\n",
    "\n",
    "util=importlib.import_module('_utils')\n",
    "importlib.reload(util)\n",
    "\n",
    "c=importlib.import_module(config)\n",
    "importlib.reload(c)\n",
    "\n",
    "get_ipython().run_line_magic('matplotlib', 'inline')\n",
    "\n",
    "# param_setup(sys.argv[1:], c)\n",
    "util.param_setup_ipython(globals(), c)"
   ]
  },
  {
   "cell_type": "code",
   "execution_count": 3,
   "metadata": {
    "ExecuteTime": {
     "end_time": "2020-05-06T03:12:10.228062Z",
     "start_time": "2020-05-06T03:12:10.222648Z"
    },
    "code_folding": [
     0
    ]
   },
   "outputs": [],
   "source": [
    "### creating the dynamic features folder ###\n",
    "\n",
    "try:\n",
    "    imp.os.makedirs('{}data/features/dynamic_features/'.format(c.directory['save']))\n",
    "except OSError as e:\n",
    "    if e.errno != imp.errno.EEXIST:\n",
    "        raise Failed('Counld\\'nt create tmp folder!')"
   ]
  },
  {
   "cell_type": "code",
   "execution_count": 4,
   "metadata": {
    "ExecuteTime": {
     "end_time": "2020-05-06T03:12:10.245261Z",
     "start_time": "2020-05-06T03:12:10.231444Z"
    },
    "code_folding": [
     0
    ]
   },
   "outputs": [
    {
     "name": "stdout",
     "output_type": "stream",
     "text": [
      "'Number of cv = 5'\n"
     ]
    }
   ],
   "source": [
    "### reading cv ids for cv folds ###\n",
    "\n",
    "outer_ids = imp.pd.read_csv('{}{}'.format(c.directory['save'], 'cv_ids/outer_0.csv'))\n",
    "outer_ids.rename(columns={'id': c.id_name}, inplace=True)\n",
    "\n",
    "inner_ids = list()\n",
    "for i in range(c.inner):\n",
    "  inner_ids.append(imp.pd.read_csv('{}cv_ids/inner_0_{}.csv'.format(c.directory['save'], i)))\n",
    "\n",
    "imp.pprint('Number of cv = {}'.format(len(inner_ids)))"
   ]
  },
  {
   "cell_type": "code",
   "execution_count": 5,
   "metadata": {
    "ExecuteTime": {
     "end_time": "2020-05-06T03:12:10.255437Z",
     "start_time": "2020-05-06T03:12:10.246871Z"
    },
    "code_folding": [
     0
    ]
   },
   "outputs": [],
   "source": [
    "### for-loop for creating dyanmic features ###\n",
    "\n",
    "def for_loop_dynamic_features(experiment, df_inputs, dynamics):\n",
    "\n",
    "    cv=experiment['cv']\n",
    "    training = imp.copy.deepcopy(inner_ids)\n",
    "    del training[cv]\n",
    "    training_ids=imp.pd.DataFrame()\n",
    "    for item in training:\n",
    "        training_ids=imp.pd.concat([training_ids, item], ignore_index=True, axis=0)\n",
    "    training_ids.rename(columns={'id':c.id_name}, inplace=True)\n",
    "\n",
    "    validation_ids = imp.copy.deepcopy(inner_ids[cv])\n",
    "    validation_ids.rename(columns={'id':c.id_name}, inplace=True)\n",
    "\n",
    "\n",
    "#     for feature in c.select_features['dynamic']:\n",
    "#         if experiment['type'] == c.features['dynamic'][feature]['type']:\n",
    "    feature=experiment['name']\n",
    "    dynamic=dynamics[c.features['dynamic'][feature]['type']]\n",
    "    df_input=df_inputs[feature]\n",
    "    df_training=imp.pd.merge(df_input, training_ids, on=c.id_name, how='right')\n",
    "    df_validation=imp.pd.merge(df_input, validation_ids, on=c.id_name, how='right')        \n",
    "\n",
    "    dynamic.construct_features(c, experiment, feature,\n",
    "                               df_training, df_validation,\n",
    "                               training_ids, validation_ids)"
   ]
  },
  {
   "cell_type": "code",
   "execution_count": 6,
   "metadata": {
    "ExecuteTime": {
     "end_time": "2020-05-06T03:12:10.273087Z",
     "start_time": "2020-05-06T03:12:10.258584Z"
    },
    "code_folding": [
     0
    ],
    "scrolled": true
   },
   "outputs": [
    {
     "name": "stdout",
     "output_type": "stream",
     "text": [
      "'number of experiments = 5'\n"
     ]
    },
    {
     "data": {
      "text/html": [
       "<table border=\"1\" class=\"dataframe\">\n",
       "  <thead>\n",
       "    <tr style=\"text-align: right;\">\n",
       "      <th></th>\n",
       "      <th>cv</th>\n",
       "      <th>lda_hashtags_LDA_num_topics</th>\n",
       "      <th>lda_hashtags_LDA_topic_cutoff_threshold</th>\n",
       "      <th>lda_hashtags_no_above</th>\n",
       "      <th>lda_hashtags_no_below</th>\n",
       "      <th>name</th>\n",
       "      <th>type</th>\n",
       "    </tr>\n",
       "  </thead>\n",
       "  <tbody>\n",
       "    <tr>\n",
       "      <th>0</th>\n",
       "      <td>0</td>\n",
       "      <td>20</td>\n",
       "      <td>0.1</td>\n",
       "      <td>0.6</td>\n",
       "      <td>2</td>\n",
       "      <td>lda_hashtags</td>\n",
       "      <td>lda</td>\n",
       "    </tr>\n",
       "    <tr>\n",
       "      <th>1</th>\n",
       "      <td>1</td>\n",
       "      <td>20</td>\n",
       "      <td>0.1</td>\n",
       "      <td>0.6</td>\n",
       "      <td>2</td>\n",
       "      <td>lda_hashtags</td>\n",
       "      <td>lda</td>\n",
       "    </tr>\n",
       "    <tr>\n",
       "      <th>2</th>\n",
       "      <td>2</td>\n",
       "      <td>20</td>\n",
       "      <td>0.1</td>\n",
       "      <td>0.6</td>\n",
       "      <td>2</td>\n",
       "      <td>lda_hashtags</td>\n",
       "      <td>lda</td>\n",
       "    </tr>\n",
       "    <tr>\n",
       "      <th>3</th>\n",
       "      <td>3</td>\n",
       "      <td>20</td>\n",
       "      <td>0.1</td>\n",
       "      <td>0.6</td>\n",
       "      <td>2</td>\n",
       "      <td>lda_hashtags</td>\n",
       "      <td>lda</td>\n",
       "    </tr>\n",
       "    <tr>\n",
       "      <th>4</th>\n",
       "      <td>4</td>\n",
       "      <td>20</td>\n",
       "      <td>0.1</td>\n",
       "      <td>0.6</td>\n",
       "      <td>2</td>\n",
       "      <td>lda_hashtags</td>\n",
       "      <td>lda</td>\n",
       "    </tr>\n",
       "  </tbody>\n",
       "</table>"
      ],
      "text/plain": [
       "<IPython.core.display.HTML object>"
      ]
     },
     "metadata": {},
     "output_type": "display_data"
    }
   ],
   "source": [
    "### getting the parameter grid for the experiments ###\n",
    "\n",
    "dfs=dict()\n",
    "dfs['experiments']=imp.pd.read_csv('{}experiments/{}/1_parameters_dynamic_features.csv'.format(c.directory['save'],\n",
    "                                                                              util.experiment_name(c)))\n",
    "experiments_ids= list(range(c.index_start, len(dfs['experiments']), c.index_step))\n",
    "dfs['experiments']=dfs['experiments'].iloc[experiments_ids]\n",
    "\n",
    "imp.pprint('number of experiments = {}'.format(len(dfs['experiments'])))\n",
    "\n",
    "util.display_df(dfs['experiments'])"
   ]
  },
  {
   "cell_type": "code",
   "execution_count": 7,
   "metadata": {
    "ExecuteTime": {
     "end_time": "2020-05-06T03:12:10.522217Z",
     "start_time": "2020-05-06T03:12:10.274713Z"
    },
    "code_folding": [
     0
    ]
   },
   "outputs": [
    {
     "name": "stdout",
     "output_type": "stream",
     "text": [
      "parallel: 15 partitions with 15 cores for para_parsing_df\n"
     ]
    }
   ],
   "source": [
    "### loading dynamic feature modules ###:\n",
    "\n",
    "dynamics=dict()\n",
    "df_inputs=dict()\n",
    "for feature in c.select_features['dynamic']:\n",
    "    dynamics[c.features['dynamic'][feature]['type']]=importlib.import_module('dynamic_features.{}'.format(c.features['dynamic'][feature]['type']))\n",
    "    importlib.reload(dynamics[c.features['dynamic'][feature]['type']])\n",
    "    df_inputs[feature]=imp.pd.read_csv('{}data/features/{}_feature_{}({}).csv'.format(c.directory['save'],\n",
    "                                                                                         c.project_name,\n",
    "                                                                                         c.features['dynamic'][feature]['type'],\n",
    "                                                                                         feature))\n",
    "    df_inputs[feature]=dynamics[c.features['dynamic'][feature]['type']].prep_input(df_inputs[feature], c)"
   ]
  },
  {
   "cell_type": "code",
   "execution_count": 8,
   "metadata": {
    "ExecuteTime": {
     "end_time": "2020-05-06T03:12:10.528837Z",
     "start_time": "2020-05-06T03:12:10.526133Z"
    },
    "code_folding": [
     0
    ],
    "scrolled": true
   },
   "outputs": [],
   "source": [
    "### debugging purposes-1 (Experimental Setup) ###\n",
    "\n",
    "# params=dict(\n",
    "#             df_inputs=df_inputs, \n",
    "#             dynamics=dynamics\n",
    "#            )\n",
    "\n",
    "# print(params.keys())\n",
    "# experiment=[exp for exp in dfs['experiments'].to_dict('records')][3]\n",
    "# params_names='_'.join(str(experiment[experiment['name']+'_'+param_name]) for param_name in \n",
    "#                       c.features['dynamic'][experiment['name']]['params'].keys())    \n",
    "# print('{}_{}({})_{}_cv({})'.format(c.project_name \n",
    "#                                , experiment['type']\n",
    "#                                , experiment['name']\n",
    "#                                , params_names\n",
    "#                                , experiment['cv']\n",
    "#                               ))\n",
    "# '_'.join(list(map(str, list(experiment.values()))))\n",
    "# print(experiment)\n",
    "\n",
    "# for param_name in c.features['dynamic'][experiment['name']]['params'].keys():\n",
    "#     key=experiment['name']+'_'+param_name\n",
    "#     print(experiment[key])\n",
    "# params_names='_'.join(str(experiment[experiment['name']+'_'+param_name]) for param_name in c.features['dynamic'][experiment['name']]['params'].keys())    \n",
    "# params_names"
   ]
  },
  {
   "cell_type": "code",
   "execution_count": 9,
   "metadata": {
    "ExecuteTime": {
     "end_time": "2020-05-06T03:12:10.533820Z",
     "start_time": "2020-05-06T03:12:10.531553Z"
    },
    "code_folding": [
     0
    ],
    "scrolled": false
   },
   "outputs": [],
   "source": [
    "### debugging purposes-2 (Feature Construction) ###\n",
    "\n",
    "# cv=experiment['cv']\n",
    "# training = imp.copy.deepcopy(inner_ids)\n",
    "# del training[cv]\n",
    "# training_ids=imp.pd.DataFrame()\n",
    "# for item in training:\n",
    "#     training_ids=imp.pd.concat([training_ids, item], ignore_index=True, axis=0)\n",
    "# training_ids.rename(columns={'id':c.id_name}, inplace=True)\n",
    "\n",
    "# validation_ids = imp.copy.deepcopy(inner_ids[cv])\n",
    "# validation_ids.rename(columns={'id':c.id_name}, inplace=True)\n",
    "\n",
    "\n",
    "# for feature in c.select_features['dynamic']:\n",
    "#     if experiment['type'] == c.features['dynamic'][feature]['type']:\n",
    "#         dynamic=dynamics[c.features['dynamic'][feature]['type']]\n",
    "#         df_input=df_inputs[feature]\n",
    "#         df_training=imp.pd.merge(df_input, training_ids, on=c.id_name, how='right')\n",
    "#         df_validation=imp.pd.merge(df_input, validation_ids, on=c.id_name, how='right')        \n",
    "\n",
    "#         dynamic.construct_features(c, experiment, feature,\n",
    "#                                    df_training, df_validation,\n",
    "#                                    training_ids, validation_ids)\n",
    "#         df_dynamic=dynamic.retrieve_features(c, experiment, feature)\n",
    "#         util.display(df_dynamic.head())\n"
   ]
  },
  {
   "cell_type": "code",
   "execution_count": 10,
   "metadata": {
    "ExecuteTime": {
     "end_time": "2020-05-06T03:12:10.537735Z",
     "start_time": "2020-05-06T03:12:10.535811Z"
    },
    "code_folding": [
     0
    ],
    "scrolled": true
   },
   "outputs": [],
   "source": [
    "### debugging purposes-3 ###\n",
    "\n",
    "# for_loop_dynamic_features(experiment, **params)\n",
    "\n",
    "# OR \n",
    "\n",
    "# list(map(imp.functools.partial(for_loop_dynamic_features, **params), [experiment for experiment in dfs['experiments'].to_dict('records')]))"
   ]
  },
  {
   "cell_type": "code",
   "execution_count": 11,
   "metadata": {
    "ExecuteTime": {
     "end_time": "2020-05-06T03:12:39.022154Z",
     "start_time": "2020-05-06T03:12:10.539619Z"
    },
    "code_folding": [
     0
    ],
    "scrolled": false
   },
   "outputs": [
    {
     "name": "stderr",
     "output_type": "stream",
     "text": [
      "[Parallel(n_jobs=15)]: Using backend LokyBackend with 15 concurrent workers.\n",
      "[Parallel(n_jobs=15)]: Done   2 out of   5 | elapsed:   28.2s remaining:   42.3s\n",
      "[Parallel(n_jobs=15)]: Done   5 out of   5 | elapsed:   28.5s finished\n"
     ]
    }
   ],
   "source": [
    "### running the experiments in parallel ###\n",
    "\n",
    "result_cvs=imp.Parallel(n_jobs=c.num_cores\n",
    "                    , prefer=\"processes\"\n",
    "                    , verbose=3\n",
    "                   ) (imp.delayed(for_loop_dynamic_features)(experiment, \n",
    "                                                               df_inputs,\n",
    "                                                               dynamics\n",
    "                                                              ) \n",
    "                      for experiment in dfs['experiments'].to_dict('records'))"
   ]
  },
  {
   "cell_type": "code",
   "execution_count": 12,
   "metadata": {
    "ExecuteTime": {
     "end_time": "2020-05-06T03:12:39.031514Z",
     "start_time": "2020-05-06T03:12:39.024297Z"
    },
    "code_folding": [
     0,
     2
    ]
   },
   "outputs": [],
   "source": [
    "### for-loop for all data - dyanmic features ###\n",
    "\n",
    "def for_loop_dynamic_features_all(experiment, df_inputs, dynamics):\n",
    "\n",
    "    training = imp.copy.deepcopy(inner_ids)\n",
    "    training_ids=imp.pd.DataFrame()\n",
    "    for item in training:\n",
    "        training_ids=imp.pd.concat([training_ids, item], ignore_index=True, axis=0)\n",
    "    training_ids.rename(columns={'id':c.id_name}, inplace=True)\n",
    "    testing_ids = imp.copy.deepcopy(outer_ids)\n",
    "        \n",
    "#     for feature in c.select_features['dynamic']:\n",
    "    feature=experiment['name']\n",
    "    dynamic=dynamics[c.features['dynamic'][feature]['type']]\n",
    "    print(c.features['dynamic'][feature]['type'])\n",
    "    df_input=df_inputs[feature]\n",
    "    df_training=imp.pd.merge(df_input, training_ids, on=c.id_name, how='right')\n",
    "    df_testing=imp.pd.merge(df_input, testing_ids, on=c.id_name, how='right')        \n",
    "\n",
    "    experiment_temp=imp.copy.deepcopy(experiment)\n",
    "    experiment_temp['name']=feature\n",
    "    experiment_temp['type']=c.features['dynamic'][feature]['type']\n",
    "    experiment_temp['cv']='all'\n",
    "\n",
    "\n",
    "    df_dynamic=dynamic.construct_features(c, experiment_temp, feature,\n",
    "                                          df_training, df_testing,\n",
    "                                          training_ids, testing_ids)\n",
    "#     df_dynamic=dynamic.retrieve_features(c, experiment_temp, feature)\n",
    "#     util.display(df_dynamic.head())"
   ]
  },
  {
   "cell_type": "code",
   "execution_count": 13,
   "metadata": {
    "ExecuteTime": {
     "end_time": "2020-05-06T03:12:56.379593Z",
     "start_time": "2020-05-06T03:12:39.033619Z"
    },
    "code_folding": []
   },
   "outputs": [
    {
     "name": "stderr",
     "output_type": "stream",
     "text": [
      "[Parallel(n_jobs=15)]: Using backend LokyBackend with 15 concurrent workers.\n",
      "[Parallel(n_jobs=15)]: Done   1 out of   1 | elapsed:   17.3s finished\n"
     ]
    },
    {
     "data": {
      "text/plain": [
       "[None]"
      ]
     },
     "execution_count": 13,
     "metadata": {},
     "output_type": "execute_result"
    }
   ],
   "source": [
    "### running all in parallel ###\n",
    "\n",
    "imp.Parallel(n_jobs=c.num_cores\n",
    "                    , prefer=\"processes\"\n",
    "                    , verbose=3\n",
    "                   ) (imp.delayed(for_loop_dynamic_features_all)(sub_exp[1].iloc[0,:], \n",
    "                                                                 df_inputs,\n",
    "                                                                 dynamics\n",
    "                                                              ) \n",
    "                      for sub_exp in dfs['experiments'].groupby('name'))"
   ]
  },
  {
   "cell_type": "code",
   "execution_count": 14,
   "metadata": {
    "ExecuteTime": {
     "end_time": "2020-05-06T03:12:56.383259Z",
     "start_time": "2020-05-06T03:12:56.381449Z"
    }
   },
   "outputs": [],
   "source": [
    "# for sub_exp in dfs['experiments'].groupby('name'):\n",
    "# #     print(util.display_df(sub_exp[1]))\n",
    "#     for_loop_dynamic_features_all(sub_exp[1].iloc[0,:],\n",
    "#                                   df_inputs,\n",
    "#                                   dynamics)"
   ]
  },
  {
   "cell_type": "code",
   "execution_count": null,
   "metadata": {},
   "outputs": [],
   "source": []
  }
 ],
 "metadata": {
  "kernelspec": {
   "display_name": "Python 3",
   "language": "python",
   "name": "python3"
  },
  "language_info": {
   "codemirror_mode": {
    "name": "ipython",
    "version": 3
   },
   "file_extension": ".py",
   "mimetype": "text/x-python",
   "name": "python",
   "nbconvert_exporter": "python",
   "pygments_lexer": "ipython3",
   "version": "3.7.3"
  },
  "varInspector": {
   "cols": {
    "lenName": 16,
    "lenType": 16,
    "lenVar": 40
   },
   "kernels_config": {
    "python": {
     "delete_cmd_postfix": "",
     "delete_cmd_prefix": "del ",
     "library": "var_list.py",
     "varRefreshCmd": "print(var_dic_list())"
    },
    "r": {
     "delete_cmd_postfix": ") ",
     "delete_cmd_prefix": "rm(",
     "library": "var_list.r",
     "varRefreshCmd": "cat(var_dic_list()) "
    }
   },
   "types_to_exclude": [
    "module",
    "function",
    "builtin_function_or_method",
    "instance",
    "_Feature"
   ],
   "window_display": false
  }
 },
 "nbformat": 4,
 "nbformat_minor": 2
}
