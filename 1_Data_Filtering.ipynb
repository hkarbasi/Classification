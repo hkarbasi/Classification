{
 "cells": [
  {
   "cell_type": "code",
   "execution_count": 1,
   "metadata": {
    "ExecuteTime": {
     "end_time": "2019-09-10T20:42:11.488188Z",
     "start_time": "2019-09-10T20:42:11.483264Z"
    },
    "code_folding": []
   },
   "outputs": [],
   "source": [
    "#!/usr/bin/env python\n",
    "# coding: utf-8\n",
    "\n",
    "if 'config' not in locals():\n",
    "#     config = 'configs.config_WomenInEngineering_local'\n",
    "    config = 'configs.config_ILLAE_local'"
   ]
  },
  {
   "cell_type": "code",
   "execution_count": 2,
   "metadata": {
    "ExecuteTime": {
     "end_time": "2019-09-10T20:42:16.682944Z",
     "start_time": "2019-09-10T20:42:12.852256Z"
    },
    "code_folding": [
     0
    ]
   },
   "outputs": [
    {
     "name": "stdout",
     "output_type": "stream",
     "text": [
      "config file is set to configs.config_ILLAE_local\n"
     ]
    }
   ],
   "source": [
    "### initialization ###\n",
    "\n",
    "import importlib\n",
    "print('config file is set to {}'.format(config))\n",
    "\n",
    "imp=importlib.import_module('_imports')\n",
    "importlib.reload(imp)\n",
    "\n",
    "util=importlib.import_module('_utils')\n",
    "importlib.reload(util)\n",
    "\n",
    "c=importlib.import_module(config)\n",
    "importlib.reload(c)\n",
    "\n",
    "get_ipython().run_line_magic('matplotlib', 'inline')\n",
    "\n",
    "# param_setup(sys.argv[1:], c)\n",
    "util.param_setup_ipython(globals(), c)"
   ]
  },
  {
   "cell_type": "code",
   "execution_count": 3,
   "metadata": {
    "ExecuteTime": {
     "end_time": "2019-09-10T20:42:16.921229Z",
     "start_time": "2019-09-10T20:42:16.684252Z"
    },
    "code_folding": [
     0
    ]
   },
   "outputs": [
    {
     "name": "stdout",
     "output_type": "stream",
     "text": [
      "(17354, 33)\n"
     ]
    },
    {
     "data": {
      "text/html": [
       "<table border=\"1\" class=\"dataframe\">\n",
       "  <thead>\n",
       "    <tr style=\"text-align: right;\">\n",
       "      <th></th>\n",
       "      <th>in_reply_to_status_id</th>\n",
       "      <th>in_reply_to_screen_name</th>\n",
       "      <th>in_reply_to_user_id</th>\n",
       "      <th>retweet_count</th>\n",
       "      <th>favorite_count</th>\n",
       "      <th>tweet_created_at_date</th>\n",
       "      <th>tweet_created_at_hour</th>\n",
       "      <th>tweet_id</th>\n",
       "      <th>text</th>\n",
       "      <th>source</th>\n",
       "      <th>coordinates</th>\n",
       "      <th>name</th>\n",
       "      <th>screen_name</th>\n",
       "      <th>verified</th>\n",
       "      <th>friends_count</th>\n",
       "      <th>followers_count</th>\n",
       "      <th>favourites_count</th>\n",
       "      <th>statuses_count</th>\n",
       "      <th>listed_count</th>\n",
       "      <th>description</th>\n",
       "      <th>profile_created_at_date</th>\n",
       "      <th>profile_created_at_hour</th>\n",
       "      <th>location</th>\n",
       "      <th>language</th>\n",
       "      <th>user_id</th>\n",
       "      <th>profile_image_url_https</th>\n",
       "      <th>profile_background_image_url_https</th>\n",
       "      <th>profile_banner_url</th>\n",
       "      <th>external_url</th>\n",
       "      <th>user_mentions</th>\n",
       "      <th>hashtags</th>\n",
       "      <th>external_media_type</th>\n",
       "      <th>external_media_url</th>\n",
       "    </tr>\n",
       "  </thead>\n",
       "  <tbody>\n",
       "    <tr>\n",
       "      <th>0</th>\n",
       "      <td>NaN</td>\n",
       "      <td>NaN</td>\n",
       "      <td>NaN</td>\n",
       "      <td>0</td>\n",
       "      <td>0</td>\n",
       "      <td>Aug 27 2015</td>\n",
       "      <td>20:55:52</td>\n",
       "      <td>637005633548632064</td>\n",
       "      <td>#iLookLikeAnEngineer: Nuance employees share s...</td>\n",
       "      <td>&lt;a href=\"http://socialchorus.com\" rel=\"nofollo...</td>\n",
       "      <td>NaN</td>\n",
       "      <td>Nuance UK</td>\n",
       "      <td>NuanceUK</td>\n",
       "      <td>0</td>\n",
       "      <td>34</td>\n",
       "      <td>946</td>\n",
       "      <td>78</td>\n",
       "      <td>1127</td>\n",
       "      <td>51</td>\n",
       "      <td>Nuance UK - the home of Dragon, PowerPDF and O...</td>\n",
       "      <td>May 06 2009</td>\n",
       "      <td>10:13:26</td>\n",
       "      <td>UK</td>\n",
       "      <td>en</td>\n",
       "      <td>38150806</td>\n",
       "      <td>https://pbs.twimg.com/profile_images/677196289...</td>\n",
       "      <td>https://abs.twimg.com/images/themes/theme9/bg.gif</td>\n",
       "      <td>https://pbs.twimg.com/profile_banners/38150806...</td>\n",
       "      <td>http://bit.ly/1PW3R9T</td>\n",
       "      <td>NaN</td>\n",
       "      <td>iLookLikeAnEngineer, nuanceteam</td>\n",
       "      <td>NaN</td>\n",
       "      <td>NaN</td>\n",
       "    </tr>\n",
       "    <tr>\n",
       "      <th>1</th>\n",
       "      <td>NaN</td>\n",
       "      <td>NaN</td>\n",
       "      <td>NaN</td>\n",
       "      <td>1</td>\n",
       "      <td>0</td>\n",
       "      <td>Aug 27 2015</td>\n",
       "      <td>21:02:37</td>\n",
       "      <td>637007331574812673</td>\n",
       "      <td>We're so proud of our mentors. Earlier this mo...</td>\n",
       "      <td>&lt;a href=\"http://www.hootsuite.com\" rel=\"nofoll...</td>\n",
       "      <td>NaN</td>\n",
       "      <td>SparkProgramLA</td>\n",
       "      <td>SparkProgramLA</td>\n",
       "      <td>0</td>\n",
       "      <td>196</td>\n",
       "      <td>253</td>\n",
       "      <td>117</td>\n",
       "      <td>672</td>\n",
       "      <td>11</td>\n",
       "      <td>Every day, we foster relationships between mid...</td>\n",
       "      <td>Sep 11 2013</td>\n",
       "      <td>17:42:45</td>\n",
       "      <td>Los Angeles, CA</td>\n",
       "      <td>en</td>\n",
       "      <td>1854956568</td>\n",
       "      <td>https://pbs.twimg.com/profile_images/719566009...</td>\n",
       "      <td>https://pbs.twimg.com/profile_background_image...</td>\n",
       "      <td>https://pbs.twimg.com/profile_banners/18549565...</td>\n",
       "      <td>NaN</td>\n",
       "      <td>1719657061, 135266722</td>\n",
       "      <td>ILookLikeAnEngineer</td>\n",
       "      <td>NaN</td>\n",
       "      <td>NaN</td>\n",
       "    </tr>\n",
       "    <tr>\n",
       "      <th>2</th>\n",
       "      <td>NaN</td>\n",
       "      <td>NaN</td>\n",
       "      <td>NaN</td>\n",
       "      <td>1</td>\n",
       "      <td>3</td>\n",
       "      <td>Aug 27 2015</td>\n",
       "      <td>21:24:57</td>\n",
       "      <td>637012950495031296</td>\n",
       "      <td>#Ilooklikeanengineer http://t.co/Zrz7y3Vt3X</td>\n",
       "      <td>&lt;a href=\"http://www.apple.com\" rel=\"nofollow\"&gt;...</td>\n",
       "      <td>NaN</td>\n",
       "      <td>kate</td>\n",
       "      <td>Szkolnik</td>\n",
       "      <td>0</td>\n",
       "      <td>1287</td>\n",
       "      <td>13</td>\n",
       "      <td>2</td>\n",
       "      <td>3</td>\n",
       "      <td>2</td>\n",
       "      <td>NaN</td>\n",
       "      <td>May 06 2011</td>\n",
       "      <td>13:22:01</td>\n",
       "      <td>NaN</td>\n",
       "      <td>en</td>\n",
       "      <td>294060143</td>\n",
       "      <td>https://pbs.twimg.com/profile_images/134470334...</td>\n",
       "      <td>https://abs.twimg.com/images/themes/theme1/bg.png</td>\n",
       "      <td>NaN</td>\n",
       "      <td>NaN</td>\n",
       "      <td>NaN</td>\n",
       "      <td>Ilooklikeanengineer</td>\n",
       "      <td>photo</td>\n",
       "      <td>https://pbs.twimg.com/media/CNcf5zwUEAAXhBC.jpg</td>\n",
       "    </tr>\n",
       "    <tr>\n",
       "      <th>3</th>\n",
       "      <td>NaN</td>\n",
       "      <td>kstate_wie</td>\n",
       "      <td>2.677363e+09</td>\n",
       "      <td>2</td>\n",
       "      <td>4</td>\n",
       "      <td>Aug 27 2015</td>\n",
       "      <td>21:25:08</td>\n",
       "      <td>637012998473670656</td>\n",
       "      <td>@kstate_wie @KStateEngg #ILookLikeAnEngineer h...</td>\n",
       "      <td>&lt;a href=\"http://twitter.com/download/iphone\" r...</td>\n",
       "      <td>NaN</td>\n",
       "      <td>Spency Spenc</td>\n",
       "      <td>spencer_slane</td>\n",
       "      <td>0</td>\n",
       "      <td>464</td>\n",
       "      <td>494</td>\n",
       "      <td>2341</td>\n",
       "      <td>8345</td>\n",
       "      <td>2</td>\n",
       "      <td>Mechanical Engineer - BAJA TREASURER</td>\n",
       "      <td>Oct 02 2011</td>\n",
       "      <td>14:36:49</td>\n",
       "      <td>KSU</td>\n",
       "      <td>en</td>\n",
       "      <td>383790528</td>\n",
       "      <td>https://pbs.twimg.com/profile_images/780423411...</td>\n",
       "      <td>https://abs.twimg.com/images/themes/theme1/bg.png</td>\n",
       "      <td>https://pbs.twimg.com/profile_banners/38379052...</td>\n",
       "      <td>NaN</td>\n",
       "      <td>2677362781, 32296630</td>\n",
       "      <td>ILookLikeAnEngineer</td>\n",
       "      <td>photo</td>\n",
       "      <td>https://pbs.twimg.com/media/CNcf7_XVEAAjLQg.jpg</td>\n",
       "    </tr>\n",
       "    <tr>\n",
       "      <th>4</th>\n",
       "      <td>NaN</td>\n",
       "      <td>NaN</td>\n",
       "      <td>NaN</td>\n",
       "      <td>0</td>\n",
       "      <td>0</td>\n",
       "      <td>Aug 27 2015</td>\n",
       "      <td>21:32:03</td>\n",
       "      <td>637014738216443905</td>\n",
       "      <td>#ILookLikeAnEngineer former yoga teacher turne...</td>\n",
       "      <td>&lt;a href=\"http://twitter.com/download/iphone\" r...</td>\n",
       "      <td>NaN</td>\n",
       "      <td>Manu Lohiya</td>\n",
       "      <td>manu_lohiya</td>\n",
       "      <td>0</td>\n",
       "      <td>416</td>\n",
       "      <td>206</td>\n",
       "      <td>16</td>\n",
       "      <td>85</td>\n",
       "      <td>7</td>\n",
       "      <td>A user-driven Product Manager that can code an...</td>\n",
       "      <td>Dec 14 2012</td>\n",
       "      <td>00:38:01</td>\n",
       "      <td>San Francisco, CA</td>\n",
       "      <td>en</td>\n",
       "      <td>1010066696</td>\n",
       "      <td>https://pbs.twimg.com/profile_images/333657966...</td>\n",
       "      <td>https://pbs.twimg.com/profile_background_image...</td>\n",
       "      <td>NaN</td>\n",
       "      <td>NaN</td>\n",
       "      <td>170393291</td>\n",
       "      <td>ILookLikeAnEngineer, thisissf</td>\n",
       "      <td>photo</td>\n",
       "      <td>https://pbs.twimg.com/media/CNchht-UAAAhCgO.jpg</td>\n",
       "    </tr>\n",
       "  </tbody>\n",
       "</table>"
      ],
      "text/plain": [
       "<IPython.core.display.HTML object>"
      ]
     },
     "metadata": {},
     "output_type": "display_data"
    }
   ],
   "source": [
    "### reading the dataset file ###\n",
    "\n",
    "dfs=dict()\n",
    "if c.directory['dataset']['type'] != 'xls':\n",
    "    dfs['input'] = imp.pd.read_csv('{}data/raw/{}.{}'.format(c.directory['master'],\n",
    "                                                     c.directory['dataset']['filename'],\n",
    "                                                     c.directory['dataset']['type']\n",
    "                                                    )\n",
    "                           , sep=c.directory['dataset']['sep'])\n",
    "\n",
    "\n",
    "imp.pprint(dfs['input'].shape)\n",
    "util.display_df(dfs['input'].head(5))"
   ]
  },
  {
   "cell_type": "code",
   "execution_count": 4,
   "metadata": {
    "ExecuteTime": {
     "end_time": "2019-09-10T20:42:50.146253Z",
     "start_time": "2019-09-10T20:42:49.831625Z"
    },
    "code_folding": []
   },
   "outputs": [
    {
     "name": "stdout",
     "output_type": "stream",
     "text": [
      "parallel: 15 partitions with 15 cores for str_date_to_date_df\n",
      "str_date_to_date step is done!\n",
      "'min date = 2015-08-08 00:00:00'\n",
      "'max date = 2015-10-15 00:00:00'\n"
     ]
    }
   ],
   "source": [
    "### converting date ###\n",
    "\n",
    "if c.date_format == 'timestamp':\n",
    "#         util.init_parallel(False, c)\n",
    "#         df_text['date_converted'] = df_text['date'].apply(str_timestamp_to_date)\n",
    "#     dfs['input']['date_converted'] = util.parallelize_df_dask(dfs['input'][c.date_col], str_timestamp_to_date_df, c)    \n",
    "    dfs['input']['date_converted'] = util.parallelize_df(dfs['input'][c.date_col], util.str_timestamp_to_date_df, c)    \n",
    "#         df_text['date_converted'] = df_text['date'].apply(str_timestamp_to_date)    \n",
    "    print('str_timestamp_to_date step is done!')\n",
    "else:\n",
    "    dfs['input']['date_converted'] = util.parallelize_df(dfs['input'][c.date_col], util.str_date_to_date_df, c)\n",
    "#         df_text['date_converted'] = util.parallelize_df_dask(df_text['date'], str_date_to_date, c)        \n",
    "    print('str_date_to_date step is done!')\n",
    "\n",
    "imp.pprint('min date = {}'.format(min(dfs['input']['date_converted'])))\n",
    "imp.pprint('max date = {}'.format(max(dfs['input']['date_converted'])))"
   ]
  },
  {
   "cell_type": "code",
   "execution_count": 5,
   "metadata": {
    "ExecuteTime": {
     "end_time": "2019-09-10T20:42:59.261925Z",
     "start_time": "2019-09-10T20:42:58.787806Z"
    },
    "code_folding": []
   },
   "outputs": [
    {
     "name": "stdout",
     "output_type": "stream",
     "text": [
      "(17354, 34)\n"
     ]
    }
   ],
   "source": [
    "### filtering date and saving ###\n",
    "\n",
    "min_date = imp.pd.to_datetime(c.min_date_val, infer_datetime_format=True)\n",
    "max_date = imp.pd.to_datetime(c.max_date_val, infer_datetime_format=True)\n",
    "\n",
    "if c.check_date:\n",
    "    dfs['input'] = dfs['input'][(dfs['input']['date_converted'] <= max_date) & (dfs['input']['date_converted'] >= min_date)]\n",
    "\n",
    "dfs['input'].to_csv('{}data/{}_1_data_filtered.csv'.format(c.directory['save'], c.project_name), index=False)\n",
    "\n",
    "imp.pprint(dfs['input'].shape)"
   ]
  },
  {
   "cell_type": "code",
   "execution_count": null,
   "metadata": {},
   "outputs": [],
   "source": []
  }
 ],
 "metadata": {
  "kernelspec": {
   "display_name": "Python 3",
   "language": "python",
   "name": "python3"
  },
  "language_info": {
   "codemirror_mode": {
    "name": "ipython",
    "version": 3
   },
   "file_extension": ".py",
   "mimetype": "text/x-python",
   "name": "python",
   "nbconvert_exporter": "python",
   "pygments_lexer": "ipython3",
   "version": "3.7.3"
  },
  "varInspector": {
   "cols": {
    "lenName": 16,
    "lenType": 16,
    "lenVar": 40
   },
   "kernels_config": {
    "python": {
     "delete_cmd_postfix": "",
     "delete_cmd_prefix": "del ",
     "library": "var_list.py",
     "varRefreshCmd": "print(var_dic_list())"
    },
    "r": {
     "delete_cmd_postfix": ") ",
     "delete_cmd_prefix": "rm(",
     "library": "var_list.r",
     "varRefreshCmd": "cat(var_dic_list()) "
    }
   },
   "types_to_exclude": [
    "module",
    "function",
    "builtin_function_or_method",
    "instance",
    "_Feature"
   ],
   "window_display": false
  }
 },
 "nbformat": 4,
 "nbformat_minor": 2
}
