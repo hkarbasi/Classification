{
 "cells": [
  {
   "cell_type": "code",
   "execution_count": 1,
   "metadata": {
    "ExecuteTime": {
     "end_time": "2019-09-10T22:43:41.591126Z",
     "start_time": "2019-09-10T22:43:41.588802Z"
    },
    "code_folding": []
   },
   "outputs": [],
   "source": [
    "#!/usr/bin/env python\n",
    "# coding: utf-8\n",
    "\n",
    "if 'config' not in locals():\n",
    "    config = 'configs.config_McNemar'"
   ]
  },
  {
   "cell_type": "code",
   "execution_count": 2,
   "metadata": {
    "ExecuteTime": {
     "end_time": "2019-09-10T22:43:43.040490Z",
     "start_time": "2019-09-10T22:43:41.592868Z"
    },
    "code_folding": [
     0
    ]
   },
   "outputs": [
    {
     "name": "stdout",
     "output_type": "stream",
     "text": [
      "config file is set to configs.config_McNemar\n"
     ]
    }
   ],
   "source": [
    "### initialization ###\n",
    "\n",
    "import importlib\n",
    "from _mcnemar import *\n",
    "\n",
    "print('config file is set to {}'.format(config))\n",
    "\n",
    "imp=importlib.import_module('_imports')\n",
    "importlib.reload(imp)\n",
    "\n",
    "util=importlib.import_module('_utils')\n",
    "importlib.reload(util)\n",
    "\n",
    "c=importlib.import_module(config)\n",
    "importlib.reload(c)\n",
    "\n",
    "get_ipython().run_line_magic('matplotlib', 'inline')\n",
    "\n",
    "# param_setup(sys.argv[1:], c)\n",
    "util.param_setup_ipython(globals(), c)"
   ]
  },
  {
   "cell_type": "code",
   "execution_count": 3,
   "metadata": {
    "ExecuteTime": {
     "end_time": "2019-09-10T22:43:43.056886Z",
     "start_time": "2019-09-10T22:43:43.042277Z"
    },
    "code_folding": [
     0
    ]
   },
   "outputs": [
    {
     "name": "stdout",
     "output_type": "stream",
     "text": [
      "[False, True]\n"
     ]
    }
   ],
   "source": [
    "### reading class labels from files ###\n",
    "\n",
    "\n",
    "dfs=dict()\n",
    "dfs['labels']=imp.pd.read_csv('{}data/{}_2_data_labels.csv'.format(c.directory['save'], c.project_name))\n",
    "# class_labels = [str(label) for label in set(dfs['labels']['label'])]\n",
    "class_labels = list(set(dfs['labels']['label']))\n",
    "util.pprint(class_labels)"
   ]
  },
  {
   "cell_type": "code",
   "execution_count": 4,
   "metadata": {
    "ExecuteTime": {
     "end_time": "2019-09-10T22:43:43.175057Z",
     "start_time": "2019-09-10T22:43:43.058492Z"
    },
    "code_folding": [
     0
    ]
   },
   "outputs": [],
   "source": [
    "### calculating McNemar for each class and saving to Excel ###\n",
    "\n",
    "\n",
    "class_labels=list(map(str, class_labels))\n",
    "class_labels.append('accuracy')\n",
    "writer = imp.pd.ExcelWriter(c.directory['save'] + c.project_name + '_McNemar.xlsx', engine='xlsxwriter')\n",
    "# class_name='accuracy'\n",
    "\n",
    "for class_label in class_labels:\n",
    "    fnames = list()\n",
    "    for experiment in c.experiments:\n",
    "        fnames.append('experiments/{}/true_pred_results/predictions_{}.csv'.format(experiment, class_label))\n",
    "        \n",
    "    p_vals = list()\n",
    "    for f1 in fnames:\n",
    "        df1 = imp.pd.read_csv(c.directory['save'] + f1)\n",
    "        y_target = df1['true']\n",
    "        y_model1 = df1['pred']\n",
    "        p_vals_inner = list()\n",
    "\n",
    "        for f2 in fnames:\n",
    "            df2 = imp.pd.read_csv(c.directory['save'] + f2)\n",
    "            if(df1['true'].equals(df2['true'])):\n",
    "    #             df2 = pd.read_csv(directory + f2)\n",
    "                y_model2 = df2['pred']\n",
    "                tb = mcnemar_table(y_target=y_target, \n",
    "                   y_model1=y_model1, \n",
    "                   y_model2=y_model2)\n",
    "                chi2, p = mcnemar(ary=tb, corrected=True)\n",
    "                p_vals_inner.append(p)\n",
    "            else:   \n",
    "                print('Target vars are not the same for ' + f1 + '\\t' + f2)\n",
    "\n",
    "        p_vals.append(p_vals_inner)\n",
    "\n",
    "    df = imp.pd.DataFrame(p_vals, columns=c.experiments)\n",
    "    df.to_excel(writer, sheet_name=class_label, index=False)\n",
    "writer.save()"
   ]
  },
  {
   "cell_type": "code",
   "execution_count": 5,
   "metadata": {
    "ExecuteTime": {
     "end_time": "2019-09-10T22:43:43.278957Z",
     "start_time": "2019-09-10T22:43:43.176306Z"
    },
    "code_folding": [
     0,
     3
    ]
   },
   "outputs": [],
   "source": [
    "### concatenating classification results and saving to Excel ###\n",
    "\n",
    "\n",
    "writer = imp.pd.ExcelWriter(c.directory['save'] + c.project_name + '_classification_resutls.xlsx', \n",
    "                            engine='xlsxwriter')\n",
    "\n",
    "for class_label in class_labels:\n",
    "    df_result=imp.pd.DataFrame()\n",
    "    for experiment in c.experiments:\n",
    "        fname='experiments/{}/4_optimal_models_results.csv'.format(experiment, class_label)\n",
    "\n",
    "\n",
    "        df=imp.pd.read_csv(c.directory['save']+fname)\n",
    "        df_result=imp.pd.concat([df_result, df.loc[df['metric']==class_label]], axis=0, sort=False)\n",
    "\n",
    "        \n",
    "    df_result.fillna(value='-', inplace=True)\n",
    "    cols=['metric']\n",
    "    cols_rest=list(df_result.columns)\n",
    "    del cols_rest[cols_rest.index('metric')]\n",
    "    cols.extend(cols_rest)\n",
    "    df_result=df_result[cols]\n",
    "    df_result=df_result.T        \n",
    "    df_result.columns=c.experiments   \n",
    "    df_result.to_excel(writer, sheet_name=class_label, index=True)\n",
    "writer.save()"
   ]
  },
  {
   "cell_type": "code",
   "execution_count": null,
   "metadata": {},
   "outputs": [],
   "source": []
  }
 ],
 "metadata": {
  "kernelspec": {
   "display_name": "Python 3",
   "language": "python",
   "name": "python3"
  },
  "language_info": {
   "codemirror_mode": {
    "name": "ipython",
    "version": 3
   },
   "file_extension": ".py",
   "mimetype": "text/x-python",
   "name": "python",
   "nbconvert_exporter": "python",
   "pygments_lexer": "ipython3",
   "version": "3.7.3"
  },
  "varInspector": {
   "cols": {
    "lenName": 16,
    "lenType": 16,
    "lenVar": 40
   },
   "kernels_config": {
    "python": {
     "delete_cmd_postfix": "",
     "delete_cmd_prefix": "del ",
     "library": "var_list.py",
     "varRefreshCmd": "print(var_dic_list())"
    },
    "r": {
     "delete_cmd_postfix": ") ",
     "delete_cmd_prefix": "rm(",
     "library": "var_list.r",
     "varRefreshCmd": "cat(var_dic_list()) "
    }
   },
   "types_to_exclude": [
    "module",
    "function",
    "builtin_function_or_method",
    "instance",
    "_Feature"
   ],
   "window_display": false
  }
 },
 "nbformat": 4,
 "nbformat_minor": 2
}
